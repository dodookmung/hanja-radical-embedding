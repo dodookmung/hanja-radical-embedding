{
 "cells": [
  {
   "cell_type": "code",
   "execution_count": null,
   "metadata": {},
   "outputs": [],
   "source": [
    "import os\n",
    "from dotenv import load_dotenv\n",
    "from openai import OpenAI\n",
    "import pandas as pd\n",
    "from tqdm import tqdm\n",
    "import json\n"
   ]
  },
  {
   "cell_type": "code",
   "execution_count": null,
   "metadata": {},
   "outputs": [],
   "source": [
    "# .env 파일 로드\n",
    "load_dotenv()\n",
    "\n",
    "# 환경 변수에서 API 키 가져오기\n",
    "api_key = os.getenv(\"OPENAI_API_KEY\")\n",
    "# OpenAI 클라이언트 생성 (API 키 설정)\n",
    "client = OpenAI(api_key=api_key)\n",
    "\n",
    "# CSV 파일 불러오기\n",
    "df = pd.read_csv(\"hanja.csv\")  # 파일 경로를 여기에 입력"
   ]
  },
  {
   "cell_type": "code",
   "execution_count": null,
   "metadata": {},
   "outputs": [],
   "source": [
    "df.head()"
   ]
  },
  {
   "cell_type": "code",
   "execution_count": null,
   "metadata": {},
   "outputs": [],
   "source": [
    "# 'hanja'와 'radical' 컬럼만 추출\n",
    "hanjas = df['hanja'].dropna().unique()\n",
    "radicals = df['radical'].dropna().unique()\n",
    "\n",
    "# 중복 제거된 한자 및 부수 리스트\n",
    "unique_items = list(set(hanjas.tolist() + radicals.tolist()))"
   ]
  },
  {
   "cell_type": "code",
   "execution_count": null,
   "metadata": {},
   "outputs": [],
   "source": [
    "print(unique_items[:10])\n",
    "print(len(unique_items))"
   ]
  },
  {
   "cell_type": "code",
   "execution_count": null,
   "metadata": {},
   "outputs": [],
   "source": [
    "# 임베딩 결과 저장 딕셔너리\n",
    "embeddings = {}"
   ]
  },
  {
   "cell_type": "code",
   "execution_count": null,
   "metadata": {},
   "outputs": [],
   "source": [
    "# ✅ 배치 기반 임베딩 함수\n",
    "def embed_texts_batch(text_list, embeddings={}, batch_size=100):\n",
    "    # 중복 요청 방지: 이미 있는 건 건너뜀\n",
    "    new_texts = [text for text in text_list if text not in embeddings]\n",
    "\n",
    "    for i in tqdm(range(0, len(new_texts), batch_size), desc=\"임베딩 중\"):\n",
    "        batch = new_texts[i:i+batch_size]\n",
    "        try:\n",
    "            response = client.embeddings.create(\n",
    "                model=\"text-embedding-3-small\",\n",
    "                input=batch\n",
    "            )\n",
    "            for text, result in zip(batch, response.data):\n",
    "                embeddings[text] = result.embedding\n",
    "        except Exception as e:\n",
    "            print(f\"배치 {i // batch_size + 1} 임베딩 실패: {e}\")\n",
    "    \n",
    "    return embeddings\n",
    "\n",
    "# 🧠 임베딩 수행\n",
    "embeddings = embed_texts_batch(unique_items, embeddings)"
   ]
  },
  {
   "cell_type": "code",
   "execution_count": null,
   "metadata": {},
   "outputs": [],
   "source": [
    "# 결과 저장 (optional)\n",
    "with open(\"hanja_radical_embeddings.json\", \"w\", encoding=\"utf-8\") as f:\n",
    "    json.dump(embeddings, f, ensure_ascii=False, indent=2)\n",
    "\n",
    "print(\"✅ 임베딩 완료 및 저장됨.\")"
   ]
  },
  {
   "cell_type": "code",
   "execution_count": null,
   "metadata": {},
   "outputs": [],
   "source": [
    "type(embeddings)"
   ]
  },
  {
   "cell_type": "code",
   "execution_count": null,
   "metadata": {},
   "outputs": [],
   "source": [
    "len(embeddings)\n"
   ]
  },
  {
   "cell_type": "code",
   "execution_count": null,
   "metadata": {},
   "outputs": [],
   "source": [
    "\n",
    "import matplotlib.pyplot as plt\n",
    "from matplotlib import rc  ### mac 환경에서 한글 폰트 설정\n",
    "rc('font', family='AppleGothic') \t\t\t## 이 두 줄을 \n",
    "plt.rcParams['axes.unicode_minus'] = False  ## 추가해줍니다. \n"
   ]
  }
 ],
 "metadata": {
  "kernelspec": {
   "display_name": "Python 3",
   "language": "python",
   "name": "python3"
  },
  "language_info": {
   "codemirror_mode": {
    "name": "ipython",
    "version": 3
   },
   "file_extension": ".py",
   "mimetype": "text/x-python",
   "name": "python",
   "nbconvert_exporter": "python",
   "pygments_lexer": "ipython3",
   "version": "3.13.2"
  }
 },
 "nbformat": 4,
 "nbformat_minor": 4
}
