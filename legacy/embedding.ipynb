{
 "cells": [
  {
   "cell_type": "code",
   "execution_count": 5,
   "metadata": {},
   "outputs": [],
   "source": [
    "import os\n",
    "from dotenv import load_dotenv\n",
    "from langchain_openai import OpenAIEmbeddings\n",
    "import pandas as pd\n",
    "from tqdm import tqdm\n",
    "import json\n"
   ]
  },
  {
   "cell_type": "code",
   "execution_count": 6,
   "metadata": {},
   "outputs": [],
   "source": [
    "# .env 파일 로드\n",
    "load_dotenv()\n",
    "\n",
    "# LangChain OpenAI 임베딩 객체 생성\n",
    "embeddings_model = OpenAIEmbeddings(\n",
    "    model=\"text-embedding-3-small\",\n",
    "    openai_api_key=os.getenv(\"OPENAI_API_KEY\")\n",
    ")\n",
    "\n",
    "# CSV 파일 불러오기\n",
    "df = pd.read_csv(\"hanja.csv\")  # 파일 경로를 여기에 입력"
   ]
  },
  {
   "cell_type": "code",
   "execution_count": 7,
   "metadata": {},
   "outputs": [
    {
     "data": {
      "text/html": [
       "<div>\n",
       "<style scoped>\n",
       "    .dataframe tbody tr th:only-of-type {\n",
       "        vertical-align: middle;\n",
       "    }\n",
       "\n",
       "    .dataframe tbody tr th {\n",
       "        vertical-align: top;\n",
       "    }\n",
       "\n",
       "    .dataframe thead th {\n",
       "        text-align: right;\n",
       "    }\n",
       "</style>\n",
       "<table border=\"1\" class=\"dataframe\">\n",
       "  <thead>\n",
       "    <tr style=\"text-align: right;\">\n",
       "      <th></th>\n",
       "      <th>main_sound</th>\n",
       "      <th>level</th>\n",
       "      <th>hanja</th>\n",
       "      <th>meaning</th>\n",
       "      <th>radical</th>\n",
       "      <th>strokes</th>\n",
       "      <th>total_strokes</th>\n",
       "    </tr>\n",
       "  </thead>\n",
       "  <tbody>\n",
       "    <tr>\n",
       "      <th>0</th>\n",
       "      <td>가</td>\n",
       "      <td>7급Ⅱ</td>\n",
       "      <td>家</td>\n",
       "      <td>[[['집'], ['가']]]</td>\n",
       "      <td>宀</td>\n",
       "      <td>7</td>\n",
       "      <td>10</td>\n",
       "    </tr>\n",
       "    <tr>\n",
       "      <th>1</th>\n",
       "      <td>가</td>\n",
       "      <td>7급</td>\n",
       "      <td>歌</td>\n",
       "      <td>[[['노래'], ['가']]]</td>\n",
       "      <td>欠</td>\n",
       "      <td>10</td>\n",
       "      <td>14</td>\n",
       "    </tr>\n",
       "    <tr>\n",
       "      <th>2</th>\n",
       "      <td>가</td>\n",
       "      <td>5급Ⅱ</td>\n",
       "      <td>價</td>\n",
       "      <td>[[['값'], ['가']]]</td>\n",
       "      <td>人</td>\n",
       "      <td>13</td>\n",
       "      <td>15</td>\n",
       "    </tr>\n",
       "    <tr>\n",
       "      <th>3</th>\n",
       "      <td>가</td>\n",
       "      <td>5급</td>\n",
       "      <td>加</td>\n",
       "      <td>[[['더할'], ['가']]]</td>\n",
       "      <td>力</td>\n",
       "      <td>3</td>\n",
       "      <td>5</td>\n",
       "    </tr>\n",
       "    <tr>\n",
       "      <th>4</th>\n",
       "      <td>가</td>\n",
       "      <td>5급</td>\n",
       "      <td>可</td>\n",
       "      <td>[[['옳을'], ['가']]]</td>\n",
       "      <td>口</td>\n",
       "      <td>2</td>\n",
       "      <td>5</td>\n",
       "    </tr>\n",
       "  </tbody>\n",
       "</table>\n",
       "</div>"
      ],
      "text/plain": [
       "  main_sound level hanja            meaning radical  strokes  total_strokes\n",
       "0          가   7급Ⅱ     家   [[['집'], ['가']]]       宀        7             10\n",
       "1          가    7급     歌  [[['노래'], ['가']]]       欠       10             14\n",
       "2          가   5급Ⅱ     價   [[['값'], ['가']]]       人       13             15\n",
       "3          가    5급     加  [[['더할'], ['가']]]       力        3              5\n",
       "4          가    5급     可  [[['옳을'], ['가']]]       口        2              5"
      ]
     },
     "execution_count": 7,
     "metadata": {},
     "output_type": "execute_result"
    }
   ],
   "source": [
    "df.head()"
   ]
  },
  {
   "cell_type": "code",
   "execution_count": 8,
   "metadata": {},
   "outputs": [],
   "source": [
    "# 'hanja'와 'radical' 컬럼만 추출\n",
    "hanjas = df['hanja'].dropna().unique()\n",
    "radicals = df['radical'].dropna().unique()\n",
    "\n",
    "# 중복 제거된 한자 및 부수 리스트\n",
    "unique_items = list(set(hanjas.tolist() + radicals.tolist()))"
   ]
  },
  {
   "cell_type": "code",
   "execution_count": 9,
   "metadata": {},
   "outputs": [
    {
     "name": "stdout",
     "output_type": "stream",
     "text": [
      "['稢', '鼈', '靚', '介', '悌', '揉', '批', '磯', '擎', '訑']\n",
      "6023\n"
     ]
    }
   ],
   "source": [
    "print(unique_items[:10])\n",
    "print(len(unique_items))"
   ]
  },
  {
   "cell_type": "code",
   "execution_count": 10,
   "metadata": {},
   "outputs": [
    {
     "name": "stderr",
     "output_type": "stream",
     "text": [
      "임베딩 중: 100%|██████████| 61/61 [01:46<00:00,  1.75s/it]\n"
     ]
    }
   ],
   "source": [
    "# 임베딩 결과 저장 딕셔너리\n",
    "embeddings = {}\n",
    "\n",
    "# ✅ 배치 기반 임베딩 함수\n",
    "def embed_texts_batch(text_list, embeddings={}, batch_size=100):\n",
    "    # 중복 요청 방지: 이미 있는 건 건너뜀\n",
    "    new_texts = [text for text in text_list if text not in embeddings]\n",
    "    \n",
    "    for i in tqdm(range(0, len(new_texts), batch_size), desc=\"임베딩 중\"):\n",
    "        batch = new_texts[i:i+batch_size]\n",
    "        try:\n",
    "            # LangChain을 통한 배치 임베딩 생성\n",
    "            batch_embeddings = embeddings_model.embed_documents(batch)\n",
    "            \n",
    "            # 결과를 딕셔너리에 저장\n",
    "            for text, embedding in zip(batch, batch_embeddings):\n",
    "                embeddings[text] = embedding\n",
    "                \n",
    "        except Exception as e:\n",
    "            print(f\"배치 {i // batch_size + 1} 임베딩 실패: {e}\")\n",
    "   \n",
    "    return embeddings\n",
    "\n",
    "# 🧠 임베딩 수행\n",
    "embeddings = embed_texts_batch(unique_items, embeddings)"
   ]
  },
  {
   "cell_type": "code",
   "execution_count": 11,
   "metadata": {},
   "outputs": [
    {
     "data": {
      "text/plain": [
       "'text-embedding-3-small'"
      ]
     },
     "execution_count": 11,
     "metadata": {},
     "output_type": "execute_result"
    }
   ],
   "source": [
    "embeddings_model.model"
   ]
  },
  {
   "cell_type": "code",
   "execution_count": 12,
   "metadata": {},
   "outputs": [
    {
     "name": "stdout",
     "output_type": "stream",
     "text": [
      "✅ 임베딩 완료 및 저장됨.\n"
     ]
    }
   ],
   "source": [
    "# 결과 저장 (optional)\n",
    "with open(f\"{str(embeddings_model.model)}.json\", \"w\", encoding=\"utf-8\") as f:\n",
    "    json.dump(embeddings, f, ensure_ascii=False, indent=2)\n",
    "\n",
    "print(\"✅ 임베딩 완료 및 저장됨.\")"
   ]
  },
  {
   "cell_type": "code",
   "execution_count": 13,
   "metadata": {},
   "outputs": [
    {
     "data": {
      "text/plain": [
       "dict"
      ]
     },
     "execution_count": 13,
     "metadata": {},
     "output_type": "execute_result"
    }
   ],
   "source": [
    "type(embeddings)"
   ]
  }
 ],
 "metadata": {
  "kernelspec": {
   "display_name": "hanja",
   "language": "python",
   "name": "python3"
  },
  "language_info": {
   "codemirror_mode": {
    "name": "ipython",
    "version": 3
   },
   "file_extension": ".py",
   "mimetype": "text/x-python",
   "name": "python",
   "nbconvert_exporter": "python",
   "pygments_lexer": "ipython3",
   "version": "3.13.3"
  }
 },
 "nbformat": 4,
 "nbformat_minor": 4
}
